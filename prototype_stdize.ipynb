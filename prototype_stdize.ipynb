{
 "cells": [
  {
   "cell_type": "code",
   "execution_count": 14,
   "metadata": {},
   "outputs": [
    {
     "name": "stdout",
     "output_type": "stream",
     "text": [
      "Standardized: eight.png\n",
      "Standardized: five.png\n",
      "Standardized: four.png\n",
      "Standardized: nine.png\n",
      "Standardized: one.png\n",
      "Standardized: seven.png\n",
      "Standardized: six.png\n",
      "Standardized: three.png\n",
      "Standardized: two.png\n",
      "Standardized: zero.png\n"
     ]
    }
   ],
   "source": [
    "from PIL import Image, ImageOps\n",
    "import numpy as np\n",
    "import os\n",
    "\n",
    "def standardize_image_smart(image_path, output_path, target_size=(64, 64)):\n",
    "    # Open the image\n",
    "    img = Image.open(image_path).convert('L')  # Convert to grayscale ('L')\n",
    "    \n",
    "    # Convert the image to a numpy array\n",
    "    img_np = np.array(img)\n",
    "    \n",
    "    # Threshold the image to get the bounding box of the number\n",
    "    threshold = 200  # Define a threshold to detect the number\n",
    "    binary_img = img_np < threshold  # Pixels darker than 200 are part of the digit\n",
    "    \n",
    "    # Find the bounding box of the digit\n",
    "    coords = np.column_stack(np.where(binary_img))\n",
    "    if coords.size == 0:\n",
    "        print(f\"No digit found in {image_path}\")\n",
    "        return\n",
    "    top_left = coords.min(axis=0)\n",
    "    bottom_right = coords.max(axis=0)\n",
    "    \n",
    "    # Crop the image to the bounding box\n",
    "    cropped_img_np = img_np[top_left[0]:bottom_right[0]+1, top_left[1]:bottom_right[1]+1]\n",
    "    \n",
    "    # Convert back to a Pillow Image\n",
    "    cropped_img = Image.fromarray(cropped_img_np)\n",
    "    \n",
    "    # Create a new square image with the target size and paste the cropped digit into the center\n",
    "    new_img = Image.new('L', target_size, color=255)  # Create a white background\n",
    "    aspect_ratio = min(target_size[0] / cropped_img.width, target_size[1] / cropped_img.height)\n",
    "    \n",
    "    # Resize the cropped image maintaining the aspect ratio\n",
    "    new_size = (int(cropped_img.width * aspect_ratio), int(cropped_img.height * aspect_ratio))\n",
    "    resized_img = cropped_img.resize(new_size)\n",
    "    \n",
    "    # Calculate the position to center the resized image in the target size\n",
    "    x_offset = (target_size[0] - resized_img.width) // 2\n",
    "    y_offset = (target_size[1] - resized_img.height) // 2\n",
    "    \n",
    "    # Paste the resized image in the center of the new white background image\n",
    "    new_img.paste(resized_img, (x_offset, y_offset))\n",
    "    \n",
    "    # Save the standardized image\n",
    "    new_img.save(output_path)\n",
    "\n",
    "# Apply the function to all prototype images in the local folder\n",
    "prototype_folder = 'prototypes/'  # Set your folder path\n",
    "output_folder = 'prototypes/standardized_prototypes/'  # Set your output folder\n",
    "\n",
    "if not os.path.exists(output_folder):\n",
    "    os.makedirs(output_folder)\n",
    "\n",
    "for image_file in os.listdir(prototype_folder):\n",
    "    if image_file.endswith('.png'):\n",
    "        image_path = os.path.join(prototype_folder, image_file)\n",
    "        output_path = os.path.join(output_folder, image_file)\n",
    "        standardize_image_smart(image_path, output_path)\n",
    "        print(f\"Standardized: {image_file}\")\n"
   ]
  }
 ],
 "metadata": {
  "kernelspec": {
   "display_name": "base",
   "language": "python",
   "name": "python3"
  },
  "language_info": {
   "codemirror_mode": {
    "name": "ipython",
    "version": 3
   },
   "file_extension": ".py",
   "mimetype": "text/x-python",
   "name": "python",
   "nbconvert_exporter": "python",
   "pygments_lexer": "ipython3",
   "version": "3.9.18"
  }
 },
 "nbformat": 4,
 "nbformat_minor": 2
}
